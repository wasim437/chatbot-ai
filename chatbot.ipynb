{
 "cells": [
  {
   "cell_type": "code",
   "execution_count": 3,
   "id": "8ff37903-64af-4764-9bba-911dd99d8f2b",
   "metadata": {},
   "outputs": [
    {
     "name": "stdout",
     "output_type": "stream",
     "text": [
      "Overwriting my_app.py\n"
     ]
    }
   ],
   "source": [
    "%%writefile my_app.py\n",
    "import streamlit as st\n",
    "import google.generativeai as gen_ai\n",
    "\n",
    "# Replace with your Google API key directly\n",
    "GOOGLE_API_KEY = \"api key\"\n",
    "\n",
    "# Set up Google Gemini-Pro AI model\n",
    "gen_ai.configure(api_key=GOOGLE_API_KEY)\n",
    "model = gen_ai.GenerativeModel('gemini-pro')\n",
    "\n",
    "# Function to translate roles between Gemini-Pro and Streamlit terminology\n",
    "def translate_role_for_streamlit(user_role):\n",
    "    if user_role == \"model\":\n",
    "        return \"assistant\"\n",
    "    else:\n",
    "        return user_role\n",
    "\n",
    "# Initialize chat session in Streamlit if not already present\n",
    "if \"chat_session\" not in st.session_state:\n",
    "    st.session_state.chat_session = model.start_chat(history=[])\n",
    "\n",
    "# Display the chatbot's title on the page\n",
    "st.title(\"🤖 was - ChatBot\")\n",
    "\n",
    "# Display the chat history\n",
    "if hasattr(st.session_state, 'chat_session'):\n",
    "    for message in st.session_state.chat_session.history:\n",
    "        with st.echo(f\"{message.role} message\"):\n",
    "            st.markdown(message.parts[0].text)\n",
    "\n",
    "# Input field for user's message\n",
    "user_prompt = st.text_input(\"Ask Gemini-Pro...\")\n",
    "if user_prompt:\n",
    "    # Add user's message to chat and display it\n",
    "    st.markdown(f\"**User:** {user_prompt}\")\n",
    "\n",
    "    # Send user's message to Gemini-Pro and get the response\n",
    "    gemini_response = st.session_state.chat_session.send_message(user_prompt)\n",
    "\n",
    "    # Display Gemini-Pro's response\n",
    "    st.markdown(f\"**Gemini-Pro:** {gemini_response.text}\")\n"
   ]
  },
  {
   "cell_type": "code",
   "execution_count": 4,
   "id": "6d762bef-da4f-4031-bfb6-428494865d81",
   "metadata": {},
   "outputs": [
    {
     "name": "stdout",
     "output_type": "stream",
     "text": [
      "Overwriting my_app.py\n"
     ]
    }
   ],
   "source": []
  },
  {
   "cell_type": "code",
   "execution_count": null,
   "id": "d1d9d913-0ad6-4f80-9140-791e3c14f790",
   "metadata": {},
   "outputs": [],
   "source": []
  }
 ],
 "metadata": {
  "kernelspec": {
   "display_name": "Python 3 (ipykernel)",
   "language": "python",
   "name": "python3"
  },
  "language_info": {
   "codemirror_mode": {
    "name": "ipython",
    "version": 3
   },
   "file_extension": ".py",
   "mimetype": "text/x-python",
   "name": "python",
   "nbconvert_exporter": "python",
   "pygments_lexer": "ipython3",
   "version": "3.11.5"
  }
 },
 "nbformat": 4,
 "nbformat_minor": 5
}
